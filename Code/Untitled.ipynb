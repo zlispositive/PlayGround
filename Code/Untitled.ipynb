{
 "cells": [
  {
   "cell_type": "code",
   "execution_count": 1,
   "metadata": {},
   "outputs": [
    {
     "name": "stdout",
     "output_type": "stream",
     "text": [
      "<module 'ccxt' from 'C:\\\\Users\\\\lzhang42\\\\AppData\\\\Local\\\\Continuum\\\\anaconda3\\\\envs\\\\playground\\\\lib\\\\site-packages\\\\ccxt\\\\__init__.py'>\n"
     ]
    }
   ],
   "source": [
    "import ccxt\n",
    "print(ccxt)"
   ]
  }
 ],
 "metadata": {
  "kernelspec": {
   "display_name": "Python [conda env:playground]",
   "language": "python",
   "name": "conda-env-playground-py"
  },
  "language_info": {
   "codemirror_mode": {
    "name": "ipython",
    "version": 3
   },
   "file_extension": ".py",
   "mimetype": "text/x-python",
   "name": "python",
   "nbconvert_exporter": "python",
   "pygments_lexer": "ipython3",
   "version": "3.6.4"
  }
 },
 "nbformat": 4,
 "nbformat_minor": 2
}
